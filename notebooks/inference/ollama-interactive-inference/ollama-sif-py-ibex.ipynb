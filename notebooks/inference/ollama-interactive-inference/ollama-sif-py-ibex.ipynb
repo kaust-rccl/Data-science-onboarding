{
 "cells": [
  {
   "cell_type": "markdown",
   "id": "2af5deb5-7ec8-43df-9bdf-3bc33d718bc6",
   "metadata": {},
   "source": [
    "# OLLAMA - Python Package Approach"
   ]
  },
  {
   "cell_type": "markdown",
   "id": "3b37e12e",
   "metadata": {},
   "source": [
    "> This page was generated from [ollama-interactive-inference/ollama-sif-py-ibex.ipynb](https://github.com/kaust-rccl/Data-science-onboarding/tree/main/notebooks/inference/ollama-interactive-inference/ollama-sif-py-ibex.ipynb). You can [view or download notebook](https://github.com/kaust-rccl/Data-science-onboarding/tree/main/notebooks/inference/ollama-interactive-inference/ollama-sif-py-ibex.ipynb). Or [view it on nbviewer](https://nbviewer.org/github/kaust-rccl/Data-science-onboarding/tree/main/notebooks/inference/ollama-interactive-inference/ollama-sif-py-ibex.ipynb)"
   ]
  },
  {
   "cell_type": "markdown",
   "id": "f7a5903c",
   "metadata": {},
   "source": [
    "## Objective\n",
    "In this notebook, we are going to use Ollama using [python package](https://github.com/ollama/ollama-python) approach \n",
    "\n",
    "## Initial Setup\n",
    "If you have not completed the initial Conda environment setup and JupyterLab access steps, please refer to [OLLama on Ibex Guide - Approach-2: Notebook Workflows (Jupyter Bases).](https://docs.hpc.kaust.edu.sa/soft_env/job_schd/slurm/interactive_jobs/ollama/index.html#approach-2-notebook-workflows-jupyter-based)"
   ]
  },
  {
   "cell_type": "markdown",
   "id": "3dee03b3-a886-4e8b-a705-fca0dcad69fe",
   "metadata": {},
   "source": [
    "## Starting the Ollama Server\n",
    "Start the OLLAMA REST API server using the following bash script in a terminal:\n",
    "\n",
    "The script has the following:\n",
    "- A user editable section, where the user defines Ollama models scratch directory.\n",
    "- The allocated port is saved in a temporary ollama_port.txt file, in order to be used in the Python notebook to read the assigned port to Ollama server.\n",
    "- Cleanup section in order to stop the singularity instance when the script is terminated.\n",
    "\n",
    "### User Modification Section\n",
    "- This section of the script is reserved for user-specific setup to set the directory where the Ollama models are pulled locally.\n",
    "- In the script, you will find a clearly marked block:\n",
    "    ```bash\n",
    "    # ------------------------------------\n",
    "    # START OF USER MODIFICATION SECTION\n",
    "    # ------------------------------------\n",
    "    ```\n",
    "    \n",
    "> Note: Do not modify other parts of the script unless you are sure, as they are required for correct execution."
   ]
  },
  {
   "cell_type": "code",
   "execution_count": 1,
   "id": "d3a2eb08-7787-4261-b4e7-ef5127bc2515",
   "metadata": {},
   "outputs": [
    {
     "name": "stdout",
     "output_type": "stream",
     "text": [
      "Running pre-start cleanup...\n",
      "Cleanup complete — ready to start new instance.\n",
      "Loading module for Singularity\n",
      "Singularity 3.9.7 modules now loaded\n",
      "OLLAMA PORT: 50677  -- Stored in ollama_port.txt\n"
     ]
    },
    {
     "name": "stderr",
     "output_type": "stream",
     "text": [
      "ollama-server-start.sh: line 9: singularity: command not found\n",
      "FATAL:   Image file already exists: \"ollama.sif\" - will not overwrite\n"
     ]
    },
    {
     "name": "stdout",
     "output_type": "stream",
     "text": [
      "Ollama server started. Logs at: /ibex/user/solimaay/scripts/jupyter/631115-ollama-sif/ibex-nb/ollama_server.log\n"
     ]
    },
    {
     "name": "stderr",
     "output_type": "stream",
     "text": [
      "INFO:    instance started successfully\n"
     ]
    },
    {
     "data": {
      "text/plain": [
       "CompletedProcess(args=['bash', 'ollama-server-start.sh'], returncode=0)"
      ]
     },
     "execution_count": 1,
     "metadata": {},
     "output_type": "execute_result"
    }
   ],
   "source": [
    "import os, subprocess\n",
    "\n",
    "script_content = \"\"\"\n",
    "#!/bin/bash\n",
    "\n",
    "# Pre-start cleanup: ensure no stale instances or files\n",
    "pre_cleanup() {\n",
    "    echo \"Running pre-start cleanup...\"\n",
    "\n",
    "    # 1. Stop any running Singularity instance with the same name\n",
    "    if singularity instance list | grep -q \"$SINGULARITY_INSTANCE_NAME\"; then\n",
    "        echo \"Stopping existing Singularity instance: $SINGULARITY_INSTANCE_NAME\"\n",
    "        singularity instance stop \"$SINGULARITY_INSTANCE_NAME\"\n",
    "    fi\n",
    "\n",
    "    # 2. Remove old temporary or state files\n",
    "    if [ -n \"$OLLAMA_PORT_TXT_FILE\" ] && [ -f \"$OLLAMA_PORT_TXT_FILE\" ]; then\n",
    "        echo \"Removing old port file: $OLLAMA_PORT_TXT_FILE\"\n",
    "        rm -f \"$OLLAMA_PORT_TXT_FILE\"\n",
    "    fi\n",
    "\n",
    "    if [ -n \"$OLLAMA_LOG_FILE\" ] && [ -f \"$OLLAMA_LOG_FILE\" ]; then\n",
    "        echo \"Removing old log file: $OLLAMA_LOG_FILE\"\n",
    "        rm -f \"$OLLAMA_LOG_FILE\"\n",
    "    fi\n",
    "\n",
    "    echo \"Cleanup complete — ready to start new instance.\"\n",
    "}\n",
    "\n",
    "# Cleanup process while exiting the server\n",
    "cleanup() {\n",
    "    echo \"🧹   Cleaning up before exit...\"\n",
    "    # Put your exit commands here, e.g.:\n",
    "    rm -f $OLLAMA_PORT_TXT_FILE\n",
    "    # Remove the Singularity instance\n",
    "    singularity instance stop $SINGULARITY_INSTANCE_NAME\n",
    "}\n",
    "trap cleanup SIGINT  # Catch Ctrl+C (SIGINT) and run cleanup\n",
    "pre_cleanup\n",
    "\n",
    "# --------------------------------\n",
    "# START OF USER MODIFICATION SECTION\n",
    "# --------------------------------\n",
    "# Make target directory on /ibex/user/$USER/ollama_models_scratch to store your Ollama models\n",
    "export OLLAMA_MODELS_SCRATCH=/ibex/user/$USER/ollama_models_scratch\n",
    "# --------------------------------\n",
    "# END OF USER Editable Section\n",
    "# --------------------------------\n",
    "\n",
    "mkdir -p $OLLAMA_MODELS_SCRATCH\n",
    "\n",
    "SINGULARITY_INSTANCE_NAME='ollama'\n",
    "SINGULARITY_SIF_FILE=\"${SINGULARITY_INSTANCE_NAME}.sif\"\n",
    "OLLAMA_PORT_TXT_FILE='ollama_port.txt'\n",
    "LOG_FILE=$PWD/ollama_server.log\n",
    "\n",
    "# 2. Load Singularity module\n",
    "module load singularity\n",
    "\n",
    "# 3. Pull OLLAMA docker image\n",
    "singularity pull --name $SINGULARITY_SIF_FILE docker://ollama/ollama\n",
    "\n",
    "# 4. Change the default port for OLLAMA_HOST: (default 127.0.0.1:11434)\n",
    "export PORT=$(python -c 'import socket; s=socket.socket(); s.bind((\"\", 0)); print(s.getsockname()[1]); s.close()')\n",
    "\n",
    "# 5. Copy the assigned port, it will be required in the second part during working on the notebook.\n",
    "echo \"$PORT\" > $OLLAMA_PORT_TXT_FILE\n",
    "\n",
    "echo \"OLLAMA PORT: $PORT  -- Stored in $OLLAMA_PORT_TXT_FILE\"\n",
    "\n",
    "# 6. Define the OLLAMA Host\n",
    "export SINGULARITYENV_OLLAMA_HOST=127.0.0.1:$PORT\n",
    "\n",
    "# 7. Change the default model directory stored: \n",
    "export SINGULARITYENV_OLLAMA_MODELS=$OLLAMA_MODELS_SCRATCH\n",
    "\n",
    "# 8. Create an Instance:\n",
    "singularity instance start --nv -B \"/ibex/user:/ibex/user\" $SINGULARITY_SIF_FILE $SINGULARITY_INSTANCE_NAME\n",
    "\n",
    "# 7. Run the OLLAMA REST API server on the background\n",
    "nohup singularity exec instance://$SINGULARITY_INSTANCE_NAME bash -c \"ollama serve\" > $LOG_FILE 2>&1 &\n",
    "echo \"Ollama server started. Logs at: $LOG_FILE\"\n",
    "\"\"\"\n",
    "\n",
    "# Write script file\n",
    "script_path = \"ollama-server-start.sh\"\n",
    "with open(script_path, \"w\") as f:\n",
    "    f.write(script_content)\n",
    "os.chmod(script_path, 0o755)\n",
    "\n",
    "# Run script\n",
    "subprocess.run([\"bash\", script_path])"
   ]
  },
  {
   "cell_type": "markdown",
   "id": "7951ba13-8bf9-4a64-a2a9-dc704776f47c",
   "metadata": {},
   "source": [
    "## Using REST API Requests\n",
    "Follow the following Python notebook below, it contains the codes for:\n",
    "- Initialization Setup.\n",
    "- List local models.\n",
    "- Pull models.\n",
    "- Testing connection to the Ollama server.\n",
    "- Chat with the models."
   ]
  },
  {
   "cell_type": "markdown",
   "id": "0cbd6d4e",
   "metadata": {},
   "source": [
    "### 1. Initialization\n",
    "1. Define the base URL for the remote Ollama Server.\n",
    "2. Create a connection Object to talk to the Ollama server"
   ]
  },
  {
   "cell_type": "code",
   "execution_count": 2,
   "id": "d5eed861-4b17-4e2b-9a06-8331318cc42d",
   "metadata": {},
   "outputs": [
    {
     "name": "stdout",
     "output_type": "stream",
     "text": [
      "http://127.0.0.1:50677\n"
     ]
    }
   ],
   "source": [
    "# 1.1- Define the base URL for the remote Ollama Server.\n",
    "with open(\"ollama_port.txt\") as f :\n",
    "    PORT = f.read().strip()\n",
    "BASE_URL=f\"http://127.0.0.1:{PORT}\"\n",
    "print(BASE_URL)"
   ]
  },
  {
   "cell_type": "code",
   "execution_count": 3,
   "id": "49c5373d-ab52-4bf1-8639-c2d753c684ef",
   "metadata": {},
   "outputs": [],
   "source": [
    "# 2. Create a connection Object to talk to the Ollama server\n",
    "from ollama import Client\n",
    "\n",
    "# Create a client instance\n",
    "client = Client(\n",
    "  host=BASE_URL,\n",
    ")"
   ]
  },
  {
   "cell_type": "markdown",
   "id": "1d2e227c-803e-4f3b-a01a-e54c8d27ee0a",
   "metadata": {},
   "source": [
    "### 2. Get a List of Local Models\n",
    "- Get a list of locally available Ollama models.\n",
    "- Locally available models are located under path: */ibex/user/$USER/ollama_models_scratch*\n",
    "- To change the location for pulled models, modify the variable *OLLAMA_MODELS_SCRATCH* in the script*start_ollama_server.sh*"
   ]
  },
  {
   "cell_type": "code",
   "execution_count": 4,
   "id": "25fc7510-856b-4a2e-a275-a8f5660edc8d",
   "metadata": {},
   "outputs": [
    {
     "data": {
      "text/plain": [
       "['gemma3:270m', 'phi3:3.8b', 'qwen3:0.6b']"
      ]
     },
     "execution_count": 4,
     "metadata": {},
     "output_type": "execute_result"
    }
   ],
   "source": [
    "def get_local_models():\n",
    "    \"\"\"\n",
    "    Returns a list of locally available Ollama Models.\n",
    "\n",
    "    Returns:\n",
    "        list: A list of model names as strings\n",
    "    \"\"\"\n",
    "    models = [model['model'] for model in client.list()['models']]\n",
    "    return models\n",
    "\n",
    "get_local_models()"
   ]
  },
  {
   "cell_type": "markdown",
   "id": "df78d5ba-d8a6-4239-a50a-2c357bcee143",
   "metadata": {},
   "source": [
    "### 3. Pull The Model\n",
    "- To pull a specific model, use *pull* method.\n",
    "- Please refer to [Ollama Library](https://ollama.com/library) to check available models."
   ]
  },
  {
   "cell_type": "code",
   "execution_count": 5,
   "id": "97bd9c31-221a-4efa-a89c-6ba496f866fb",
   "metadata": {},
   "outputs": [
    {
     "data": {
      "text/plain": [
       "ProgressResponse(status='success', completed=None, total=None, digest=None)"
      ]
     },
     "execution_count": 5,
     "metadata": {},
     "output_type": "execute_result"
    }
   ],
   "source": [
    "# Pull the required models\n",
    "client.pull(\"gemma3:270m\")"
   ]
  },
  {
   "cell_type": "markdown",
   "id": "2d072bf1-bd45-4977-871e-885c983e2808",
   "metadata": {},
   "source": [
    "### 4. Running a sample query\n",
    "#### 4.1- Non-Streaming Request\n",
    "- Sends the full message to the model and waits for the complete response.\n",
    "- The function returns only after the model finishes generating.\n",
    "- Simple and easy to use\n",
    "- Slower perceived latency — nothing is shown until the answer is complete.\n"
   ]
  },
  {
   "cell_type": "code",
   "execution_count": 6,
   "id": "3f267a07-1425-48f8-8aad-8ec8236c05fe",
   "metadata": {},
   "outputs": [
    {
     "data": {
      "text/plain": [
       "\"The sky is blue because of a phenomenon called Rayleigh scattering. \\n\\nHere's a breakdown of why:\\n\\n*   **Sunlight:** Sunlight is made up of all the colors of the rainbow. When sunlight enters the Earth's atmosphere, it bumps into tiny air molecules. These molecules are much smaller than the atoms in the air, so they scatter the light in all directions.\\n\\n*   **Rayleigh Scattering:** Because the light has to travel through a much longer path than the atmosphere, the scattered light is much less intense than the ambient light. This is called Rayleigh scattering.\\n\\n*   **Blue Light:** Blue light has a shorter wavelength than other colors. Therefore, it's scattered more strongly by the air molecules in the atmosphere.\\n\\n*   **Why Blue?** The blue color of the sky is due to the scattering of blue light by the air molecules. This makes the sky appear blue to our eyes.\\n\\n\""
      ]
     },
     "execution_count": 6,
     "metadata": {},
     "output_type": "execute_result"
    }
   ],
   "source": [
    "# Set the target LLM model\n",
    "model = 'gemma3:270m'\n",
    "\n",
    "response = client.chat(model=model, messages=[\n",
    "  {\n",
    "    'role': 'user',\n",
    "    'content': 'Why is the sky blue?',\n",
    "  },\n",
    "])\n",
    "response['message']['content']"
   ]
  },
  {
   "cell_type": "markdown",
   "id": "a08df0ec-b3ab-46ec-b30d-b35b19d8d947",
   "metadata": {},
   "source": [
    "#### 4.2- Streaming Request (Synchronous)\n",
    "- Requests the model to stream its output as it’s generated.\n",
    "- Each 'chunk' contains a partial piece of the message.\n",
    "- Ideal for real-time display or CLI tools\n",
    "- Still blocks your main thread while waiting for new chunks."
   ]
  },
  {
   "cell_type": "code",
   "execution_count": 7,
   "id": "76b0b12d-cfb2-47ca-9cae-1ac42ebb8a61",
   "metadata": {},
   "outputs": [
    {
     "name": "stdout",
     "output_type": "stream",
     "text": [
      "The sky is blue because of a phenomenon called **Rayleigh Scattering**. Here's the breakdown:\n",
      "\n",
      "*   **Light's Journey:** Light travels in a wave-like motion.\n",
      "*   **Entering the Atmosphere:** When light hits the Earth's atmosphere, it interacts with air molecules.\n",
      "*   **Scattering:** The molecules in the atmosphere scatter the light, causing it to be scattered in all directions.\n",
      "*   **Blue Light:** The most energetic part of the light is blue light.\n",
      "*   **Rayleigh Scattering:** This scattering is what allows the blue light to be scattered away.\n",
      "*   **Why Blue?** Because blue light is scattered more than other colors, making the sky appear blue.\n",
      "\n"
     ]
    }
   ],
   "source": [
    "# Set the target LLM model\n",
    "model = 'gemma3:270m'\n",
    "\n",
    "stream = client.chat(\n",
    "    model=model,\n",
    "    messages=[{'role': 'user', 'content': 'Why is the sky blue?'}],\n",
    "    stream=True,\n",
    ")\n",
    "\n",
    "for chunk in stream:\n",
    "  print(chunk['message']['content'], end='', flush=True)"
   ]
  },
  {
   "cell_type": "markdown",
   "id": "27062c7e-3293-4ead-b969-0c38d9bd56d3",
   "metadata": {},
   "source": [
    "#### 4.3- Asynchronous Streaming Chat\n",
    "- Same as streaming mode, but runs inside an async event loop.\n",
    "- Allows other async tasks to run concurrently while receiving outputs.\n",
    "- Best for Jupyter notebooks, web servers, or multitasking apps\n",
    "- Requires 'await' and async context to run properly."
   ]
  },
  {
   "cell_type": "code",
   "execution_count": 8,
   "id": "9dd39d0b-de1f-47ce-a217-e470f264351a",
   "metadata": {},
   "outputs": [
    {
     "name": "stdout",
     "output_type": "stream",
     "text": [
      "The sky is blue due to a phenomenon called Rayleigh scattering. Here's the breakdown:\n",
      "\n",
      "*   **Rayleigh Scattering:** This is the scattering of electromagnetic radiation (light) by particles of a much smaller wavelength. When light interacts with air molecules, it absorbs some of the energy and re-emits it as visible light.\n",
      "\n",
      "*   **Blue Light:** Blue and violet light have a shorter wavelength than other colors. Therefore, they are scattered much more strongly by the air molecules than other colors like red or orange.\n",
      "\n",
      "*   **Why We See Blue:** Because blue light is scattered more than other colors, we perceive the sky as blue.\n",
      "\n"
     ]
    }
   ],
   "source": [
    "import asyncio\n",
    "from ollama import AsyncClient\n",
    "\n",
    "async def chat_with_model(model: str, prompt: str, base_url: str = BASE_URL):\n",
    "    \"\"\"\n",
    "    Stream a chat response from a local Ollama model for a given prompt.\n",
    "\n",
    "    Args:\n",
    "        model (str): Name of the local Ollama model to use.\n",
    "        prompt (str): The user input to send to the model.\n",
    "        base_url (str, optional): The host URL for the Ollama server. Defaults to BASE_URL.\n",
    "\n",
    "    Raises:\n",
    "        ValueError: If the requested model is not in the local models list.\n",
    "    \"\"\"\n",
    "    # Validate model existence\n",
    "    if model not in get_local_models():\n",
    "        raise ValueError(f\"Requested model '{model}' is not in the local list. Pull the model first!\")\n",
    "        \n",
    "    message = {'role': 'user', 'content': prompt}\n",
    "\n",
    "    client = AsyncClient(host=base_url)\n",
    "    async for part in await client.chat(model=model, messages=[message], stream=True):\n",
    "        print(part['message']['content'], end='', flush=True)\n",
    "\n",
    "\n",
    "# Usage\n",
    "model = 'gemma3:270m'\n",
    "await chat_with_model(model=model, prompt=\"Why the sky is blue?\")"
   ]
  },
  {
   "cell_type": "markdown",
   "id": "a6f837db-a07b-4d5b-9b50-df34116f3b01",
   "metadata": {},
   "source": [
    "### 5- Interactive Chat with Ollama Models\n",
    "- This function enables a live, interactive conversation with a local Ollama LLM model.\n",
    "- Users can type messages in the terminal, and the model streams its responses in real time.\n",
    "- Features:\n",
    "    - Maintains conversation history between user and model.\n",
    "    - Supports multiple local models (must be pulled beforehand).\n",
    "    - Type 'exit' or 'quit' to end the session.\n",
    "    - Returns the full conversation history for further processing or logging."
   ]
  },
  {
   "cell_type": "code",
   "execution_count": 9,
   "id": "57dfbe22-0c28-4578-a6c0-16bdeb035bed",
   "metadata": {},
   "outputs": [],
   "source": [
    "import asyncio\n",
    "from ollama import AsyncClient\n",
    "\n",
    "# Stores full conversation history\n",
    "messages = []\n",
    "\n",
    "async def interactive_chat(model: str, base_url: str = BASE_URL, history: list = None):\n",
    "    \"\"\"\n",
    "    Start an interactive chat session with a local Ollama model.\n",
    "\n",
    "    This function streams responses from the model in real time,\n",
    "    maintaining conversation history. Users can type 'exit' or 'quit'\n",
    "    to end the session.\n",
    "\n",
    "    Args:\n",
    "        model (str): Name of the local Ollama model to use.\n",
    "        base_url (str, optional): Host URL for the Ollama server. Defaults to BASE_URL.\n",
    "        history (list, optional): Pre-existing conversation history. Defaults to a new list.\n",
    "\n",
    "    Returns:\n",
    "        list: Full conversation history as a list of message dictionaries.\n",
    "\n",
    "    Raises:\n",
    "        ValueError: If the requested model is not in the local models list.\n",
    "    \"\"\"\n",
    "    # Validate model existence\n",
    "    if model not in get_local_models():\n",
    "        raise ValueError(f\"Requested model '{model}' is not in the local list. Pull the model first!\")\n",
    "\n",
    "    if history is None:\n",
    "        history = []\n",
    "        \n",
    "    client = AsyncClient(host=base_url)\n",
    "    print(\"🤖 Chat started — type 'exit' to quit.\\n\")\n",
    "\n",
    "    while True:\n",
    "        user_input = input(\"👤 You: \")\n",
    "        if user_input.lower().strip() in {\"exit\", \"quit\"}:\n",
    "            print(\"👋 Goodbye!\")\n",
    "            break\n",
    "\n",
    "        # Add user input to history\n",
    "        history.append({\"role\": \"user\", \"content\": user_input})\n",
    "\n",
    "        print(\"🤖 Ollama:\", end=\" \", flush=True)\n",
    "        assistant_reply = \"\"\n",
    "\n",
    "        async for chunk in await client.chat(\n",
    "            model=model,\n",
    "            messages=history,\n",
    "            stream=True\n",
    "        ):\n",
    "            if chunk.get(\"message\"):\n",
    "                part = chunk[\"message\"][\"content\"]\n",
    "                print(part, end='', flush=True)\n",
    "                assistant_reply += part\n",
    "\n",
    "        print(\"\\n\")  # Newline after full reply\n",
    "\n",
    "        # Add assistant reply to history\n",
    "        history.append({\"role\": \"assistant\", \"content\": assistant_reply})\n",
    "    \n",
    "    return history"
   ]
  },
  {
   "cell_type": "code",
   "execution_count": 10,
   "id": "19b088e1-da2e-40f0-b3a6-680b541d582d",
   "metadata": {},
   "outputs": [
    {
     "name": "stdout",
     "output_type": "stream",
     "text": [
      "🤖 Chat started — type 'exit' to quit.\n",
      "\n"
     ]
    },
    {
     "name": "stdin",
     "output_type": "stream",
     "text": [
      "👤 You:  Hello, Explain what is HPC?\n"
     ]
    },
    {
     "name": "stdout",
     "output_type": "stream",
     "text": [
      "🤖 Ollama: HPC stands for **High-Performance Computing**. It's a field of computer science that focuses on designing and optimizing computing systems that can handle massive amounts of data and complex calculations efficiently. \n",
      "\n",
      "Here's a breakdown of what HPC is about:\n",
      "\n",
      "*   **Data Processing:** HPC systems are designed to process and analyze large datasets, making them suitable for scientific, engineering, and business applications.\n",
      "*   **Complex Calculations:** HPC algorithms are used to perform computationally intensive tasks such as:\n",
      "    *   **Machine Learning:** Training and deploying machine learning models on large datasets.\n",
      "    *   **Scientific Simulations:** Simulating complex physical phenomena, such as climate modeling, fluid dynamics, and astrophysics.\n",
      "    *   **Data Mining:** Extracting valuable insights from large datasets.\n",
      "    *   **Cryptography:** Developing and implementing secure cryptographic algorithms.\n",
      "*   **Scalability:** HPC systems can be scaled up to handle increasing workloads and data volumes.\n",
      "*   **Resource Optimization:** HPC systems can be optimized to minimize energy consumption, reduce hardware costs, and improve the performance of existing hardware.\n",
      "*   **Real-Time Computing:** HPC systems are often designed to operate in real-time, enabling applications that require immediate responses to changing conditions.\n",
      "\n",
      "In essence, HPC aims to make computing more powerful, efficient, and accessible by enabling the development and deployment of complex and demanding applications.\n",
      "\n"
     ]
    },
    {
     "name": "stdin",
     "output_type": "stream",
     "text": [
      "👤 You:  exit\n"
     ]
    },
    {
     "name": "stdout",
     "output_type": "stream",
     "text": [
      "👋 Goodbye!\n"
     ]
    }
   ],
   "source": [
    "# Usage\n",
    "model = 'gemma3:270m'\n",
    "history = await interactive_chat(model=model)"
   ]
  },
  {
   "cell_type": "markdown",
   "id": "48a91a2b-d6cd-4025-9052-c3a5e84d8816",
   "metadata": {},
   "source": [
    "## Stop the Ollama Server\n",
    "Make sure to stop the Ollama server by terminating the Singularity container."
   ]
  },
  {
   "cell_type": "code",
   "execution_count": 11,
   "id": "9ab594ae-1149-4c9a-98b6-25adc60d058f",
   "metadata": {},
   "outputs": [],
   "source": [
    "import subprocess\n",
    "import os\n",
    "\n",
    "def stop_singularity_instance(instance_name=\"ollama\", log_file=None, port_file=None):\n",
    "    \"\"\"\n",
    "    Gracefully stop a running Singularity instance by name, \n",
    "    and optionally remove associated log or port files.\n",
    "    \"\"\"\n",
    "    print(f\"Checking for Singularity instance: {instance_name}\")\n",
    "\n",
    "    # 1. Check if instance is running\n",
    "    try:\n",
    "\n",
    "        result = subprocess.run(\n",
    "            'bash -lc \"module load singularity 2>/dev/null || true; singularity instance list\"',\n",
    "            shell=True,\n",
    "            capture_output=True,\n",
    "            text=True\n",
    "        )\n",
    "\n",
    "        if instance_name not in result.stdout:\n",
    "            print(f\"No running instance named '{instance_name}' found.\")\n",
    "        else:\n",
    "            print(f\"Instance '{instance_name}' is running. Attempting to stop it...\")\n",
    "            stop_result = subprocess.run(\n",
    "                f'bash -lc \"module load singularity 2>/dev/null || true; singularity instance stop {instance_name}\"',\n",
    "                shell=True,\n",
    "                capture_output=True,\n",
    "                text=True\n",
    "            )\n",
    "            if stop_result.returncode == 0:\n",
    "                print(f\"Singularity instance '{instance_name}' stopped successfully.\")\n",
    "            else:\n",
    "                print(f\"Warning: Failed to stop instance '{instance_name}'.\")\n",
    "                print(stop_result.stderr)\n",
    "\n",
    "    except FileNotFoundError:\n",
    "        print(\"Singularity command not found. Ensure it's installed and in PATH.\")\n",
    "        return\n",
    "\n",
    "    # 2. Optional cleanup for files\n",
    "    if port_file and os.path.exists(port_file):\n",
    "        os.remove(port_file)\n",
    "        print(f\"Removed port file: {port_file}\")\n",
    "\n",
    "    if log_file and os.path.exists(log_file):\n",
    "        os.remove(log_file)\n",
    "        print(f\"Removed log file: {log_file}\")\n",
    "\n",
    "    print(\"Cleanup complete.\")\n"
   ]
  },
  {
   "cell_type": "code",
   "execution_count": 12,
   "id": "c1b58b58-5585-4259-973c-59564116eade",
   "metadata": {},
   "outputs": [
    {
     "name": "stdout",
     "output_type": "stream",
     "text": [
      "Checking for Singularity instance: ollama\n",
      "Instance 'ollama' is running. Attempting to stop it...\n",
      "Singularity instance 'ollama' stopped successfully.\n",
      "Cleanup complete.\n"
     ]
    }
   ],
   "source": [
    "stop_singularity_instance(\n",
    "    instance_name=\"ollama\",\n",
    "    log_file=os.path.expandvars(\"$PWD/ollama_server.log\"),\n",
    "    port_file=os.path.expandvars(\"$PWD/ollama_port.txt\")\n",
    ")"
   ]
  },
  {
   "cell_type": "code",
   "execution_count": null,
   "id": "a6763159-0f4d-4d2d-abb6-696d4c9508ce",
   "metadata": {},
   "outputs": [],
   "source": []
  }
 ],
 "metadata": {
  "kernelspec": {
   "display_name": "Python 3 (ipykernel)",
   "language": "python",
   "name": "python3"
  },
  "language_info": {
   "codemirror_mode": {
    "name": "ipython",
    "version": 3
   },
   "file_extension": ".py",
   "mimetype": "text/x-python",
   "name": "python",
   "nbconvert_exporter": "python",
   "pygments_lexer": "ipython3",
   "version": "3.14.0"
  }
 },
 "nbformat": 4,
 "nbformat_minor": 5
}
