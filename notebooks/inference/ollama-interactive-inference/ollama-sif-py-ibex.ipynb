{
 "cells": [
  {
   "cell_type": "markdown",
   "id": "2af5deb5-7ec8-43df-9bdf-3bc33d718bc6",
   "metadata": {},
   "source": [
    "# OLLAMA - Python Package Approach"
   ]
  },
  {
   "cell_type": "markdown",
   "id": "3b37e12e",
   "metadata": {},
   "source": [
    "> This page was generated from [ollama-interactive-inference/ollama-sif-py-ibex.ipynb](https://github.com/kaust-rccl/Data-science-onboarding/tree/main/notebooks/inference/ollama-interactive-inference/ollama-sif-py-ibex.ipynb). You can [view or download notebook](https://github.com/kaust-rccl/Data-science-onboarding/tree/main/notebooks/inference/ollama-interactive-inference/ollama-sif-py-ibex.ipynb). Or [view it on nbviewer](https://nbviewer.org/github/kaust-rccl/Data-science-onboarding/tree/main/notebooks/inference/ollama-interactive-inference/ollama-sif-py-ibex.ipynb)"
   ]
  },
  {
   "cell_type": "markdown",
   "id": "f7a5903c",
   "metadata": {},
   "source": [
    "## Objective\n",
    "In this notebook, we are going to use Ollama using [python package](https://github.com/ollama/ollama-python) approach \n",
    "\n",
    "## Initial Setup\n",
    "If you haven't installed conda yet, please follow :ref:`conda_ibex_` to get started.\n",
    "\n",
    "After conda has been installed, save the following environment yaml file on Ibex under the name ``ollama_env.yaml``\n",
    "\n",
    "```yml\n",
    "name: ollama_env\n",
    "channels:\n",
    "- conda-forge\n",
    "dependencies:\n",
    "- _libgcc_mutex=0.1\n",
    "- _openmp_mutex=4.5\n",
    "- bzip2=1.0.8\n",
    "- ca-certificates=2025.7.14\n",
    "- icu=75.1\n",
    "- ld_impl_linux-64=2.44\n",
    "- libexpat=2.7.1\n",
    "- libffi=3.4.6\n",
    "- libgcc=15.1.0\n",
    "- libgcc-ng=15.1.0\n",
    "- libgomp=15.1.0\n",
    "- liblzma=5.8.1\n",
    "- libmpdec=4.0.0\n",
    "- libsqlite=3.50.3\n",
    "- libstdcxx=15.1.0\n",
    "- libstdcxx-ng=15.1.0\n",
    "- libuuid=2.38.1\n",
    "- libzlib=1.3.1\n",
    "- ncurses=6.5\n",
    "- openssl=3.5.1\n",
    "- pip=25.1.1\n",
    "- python=3.13.5\n",
    "- python_abi=3.13\n",
    "- readline=8.2\n",
    "- tk=8.6.13\n",
    "- tzdata=2025b\n",
    "- pip:\n",
    "    - annotated-types==0.7.0\n",
    "    - anyio==4.9.0\n",
    "    - argon2-cffi==25.1.0\n",
    "    - argon2-cffi-bindings==21.2.0\n",
    "    - arrow==1.3.0\n",
    "    - asttokens==3.0.0\n",
    "    - async-lru==2.0.5\n",
    "    - attrs==25.3.0\n",
    "    - babel==2.17.0\n",
    "    - beautifulsoup4==4.13.4\n",
    "    - bleach==6.2.0\n",
    "    - certifi==2025.7.14\n",
    "    - cffi==1.17.1\n",
    "    - charset-normalizer==3.4.2\n",
    "    - comm==0.2.2\n",
    "    - debugpy==1.8.15\n",
    "    - decorator==5.2.1\n",
    "    - defusedxml==0.7.1\n",
    "    - executing==2.2.0\n",
    "    - fastjsonschema==2.21.1\n",
    "    - fqdn==1.5.1\n",
    "    - h11==0.16.0\n",
    "    - httpcore==1.0.9\n",
    "    - httpx==0.28.1\n",
    "    - idna==3.10\n",
    "    - ipykernel==6.30.0\n",
    "    - ipython==9.4.0\n",
    "    - ipython-pygments-lexers==1.1.1\n",
    "    - ipywidgets==8.1.7\n",
    "    - isoduration==20.11.0\n",
    "    - jedi==0.19.2\n",
    "    - jinja2==3.1.6\n",
    "    - json5==0.12.0\n",
    "    - jsonpointer==3.0.0\n",
    "    - jsonschema==4.25.0\n",
    "    - jsonschema-specifications==2025.4.1\n",
    "    - jupyter==1.1.1\n",
    "    - jupyter-client==8.6.3\n",
    "    - jupyter-console==6.6.3\n",
    "    - jupyter-core==5.8.1\n",
    "    - jupyter-events==0.12.0\n",
    "    - jupyter-lsp==2.2.6\n",
    "    - jupyter-server==2.16.0\n",
    "    - jupyter-server-terminals==0.5.3\n",
    "    - jupyterlab==4.4.5\n",
    "    - jupyterlab-pygments==0.3.0\n",
    "    - jupyterlab-server==2.27.3\n",
    "    - jupyterlab-widgets==3.0.15\n",
    "    - lark==1.2.2\n",
    "    - markupsafe==3.0.2\n",
    "    - matplotlib-inline==0.1.7\n",
    "    - mistune==3.1.3\n",
    "    - nbclient==0.10.2\n",
    "    - nbconvert==7.16.6\n",
    "    - nbformat==5.10.4\n",
    "    - nest-asyncio==1.6.0\n",
    "    - notebook==7.4.4\n",
    "    - notebook-shim==0.2.4\n",
    "    - ollama==0.5.1\n",
    "    - overrides==7.7.0\n",
    "    - packaging==25.0\n",
    "    - pandocfilters==1.5.1\n",
    "    - parso==0.8.4\n",
    "    - pexpect==4.9.0\n",
    "    - platformdirs==4.3.8\n",
    "    - prometheus-client==0.22.1\n",
    "    - prompt-toolkit==3.0.51\n",
    "    - psutil==7.0.0\n",
    "    - ptyprocess==0.7.0\n",
    "    - pure-eval==0.2.3\n",
    "    - pycparser==2.22\n",
    "    - pydantic==2.11.7\n",
    "    - pydantic-core==2.33.2\n",
    "    - pygments==2.19.2\n",
    "    - python-dateutil==2.9.0.post0\n",
    "    - python-json-logger==3.3.0\n",
    "    - pyyaml==6.0.2\n",
    "    - pyzmq==27.0.0\n",
    "    - referencing==0.36.2\n",
    "    - requests==2.32.4\n",
    "    - rfc3339-validator==0.1.4\n",
    "    - rfc3986-validator==0.1.1\n",
    "    - rfc3987-syntax==1.1.0\n",
    "    - rpds-py==0.26.0\n",
    "    - send2trash==1.8.3\n",
    "    - setuptools==80.9.0\n",
    "    - six==1.17.0\n",
    "    - sniffio==1.3.1\n",
    "    - soupsieve==2.7\n",
    "    - stack-data==0.6.3\n",
    "    - terminado==0.18.1\n",
    "    - tinycss2==1.4.0\n",
    "    - tornado==6.5.1\n",
    "    - traitlets==5.14.3\n",
    "    - types-python-dateutil==2.9.0.20250708\n",
    "    - typing-extensions==4.14.1\n",
    "    - typing-inspection==0.4.1\n",
    "    - uri-template==1.3.0\n",
    "    - urllib3==2.5.0\n",
    "    - wcwidth==0.2.13\n",
    "    - webcolors==24.11.1\n",
    "    - webencodings==0.5.1\n",
    "    - websocket-client==1.8.0\n",
    "    - widgetsnbextension==4.0.14\n",
    "```\n",
    "\n",
    "Run the following command to build the conda environment:\n",
    "```bash\n",
    "conda env create -f ollama_env.yaml\n",
    "```\n",
    "\n",
    "## Starting JupyterLab\n",
    "Follow [`using_jupyter`](../../jupyter) to start JupyterLab on a an Ibex GPU node Using your conda environment instead of ``machine_learning`` module.\n",
    "By making the following changes to the Jupyter launch script.\n",
    "```bash\n",
    "#module load machine_learning/2024.01\n",
    "conda activate ollama_en\n",
    "```\n",
    "\n",
    "## Starting The Ollama Server\n",
    "Start the OLLAMA REST API server using the following bash script in a terminal:\n",
    "```bash\n",
    "#!/bin/bash\n",
    "\n",
    "# Cleanup process while exiting the server\n",
    "cleanup() {\n",
    "    echo \"🧹   Cleaning up before exit...\"\n",
    "    # Put your exit commands here, e.g.:\n",
    "    rm -f $OLLAMA_PORT_TXT_FILE\n",
    "    # Remove the Singularity instance\n",
    "    singularity instance stop $SINGULARITY_INSTANCE_NAME\n",
    "}\n",
    "trap cleanup SIGINT  # Catch Ctrl+C (SIGINT) and run cleanup\n",
    "#trap cleanup EXIT    # Also run on any script exit\n",
    "\n",
    "# User Editable Section\n",
    "# 1. Make target directory on /ibex/user/$USER/ollama_models_scratch to store your Ollama models\n",
    "export OLLAMA_MODELS_SCRATCH=/ibex/user/$USER/ollama_models_scratch\n",
    "mkdir -p $OLLAMA_MODELS_SCRATCH\n",
    "# End of User Editable Section\n",
    "\n",
    "SINGULARITY_INSTANCE_NAME=\"ollama\"\n",
    "OLLAMA_PORT_TXT_FILE='ollama_port.txt'\n",
    "\n",
    "# 2. Load Singularity module\n",
    "module load singularity\n",
    "\n",
    "# 3. Pull OLLAMA docker image\n",
    "singularity pull docker://ollama/ollama\n",
    "\n",
    "# 4. Change the default port for OLLAMA_HOST: (default 127.0.0.1:11434)\n",
    "export PORT=$(python -c 'import socket; s=socket.socket(); s.bind((\"\", 0)); print(s.getsockname()[1]); s.close()')\n",
    "\n",
    "# 5. Copy the assigned port, it will be required in the second part during working on the notebook.\n",
    "echo \"$PORT\" > $OLLAMA_PORT_TXT_FILE\n",
    "\n",
    "echo \"OLLAMA PORT: $PORT  -- Stored in $OLLAMA_PORT_TXT_FILE\"\n",
    "\n",
    "# 6. Define the OLLAMA Host\n",
    "export SINGULARITYENV_OLLAMA_HOST=127.0.0.1:$PORT\n",
    "\n",
    "# 7. Change the default model directory stored: (default ~/.ollama/models/manifests/registry.ollama.ai/library)\n",
    "export SINGULARITYENV_OLLAMA_MODELS=$OLLAMA_MODELS_SCRATCH\n",
    "\n",
    "# 8. Create an Instance:\n",
    "singularity instance start --nv -B \"/ibex/user:/ibex/user\" ollama_latest.sif $SINGULARITY_INSTANCE_NAME\n",
    "\n",
    "# 7. Run the OLLAMA REST API server on the background\n",
    "singularity exec instance://$SINGULARITY_INSTANCE_NAME bash -c \"ollama serve\"\n",
    "```\n",
    "\n",
    "> Note: Save the above script in a file called start_ollama_server.sh\n",
    "\n",
    "```bash\n",
    "# Run the script to start the Ollama server.\n",
    "bash start_ollama_server.sh\n",
    "```\n",
    "\n",
    "The script has the following:\n",
    "- A user editable section, where the user defines [Ollama models scratch directory].\n",
    "- The allocated port is saved in a temporary ollama_port.txt file, in order to be used in the Python notebook to read the assigned port to Ollama server.\n",
    "- Cleanup section in order to stop the singularity instance when the script is terminated with CTRL+C.\n",
    "\n",
    "## Using REST API Requests\n",
    "Follow the following Python notebook below, it contains the codes for [Testing connection to the Ollama server, List local models, Pull models, Chat with the models].\n"
   ]
  },
  {
   "cell_type": "markdown",
   "id": "0cbd6d4e",
   "metadata": {},
   "source": [
    "### Initialization"
   ]
  },
  {
   "cell_type": "code",
   "execution_count": 1,
   "id": "d5eed861-4b17-4e2b-9a06-8331318cc42d",
   "metadata": {},
   "outputs": [
    {
     "name": "stdout",
     "output_type": "stream",
     "text": [
      "http://127.0.0.1:45855\n"
     ]
    }
   ],
   "source": [
    "# Configuration\n",
    "with open(\"ollama_port.txt\") as f :\n",
    "    PORT = f.read().strip()\n",
    "BASE_URL=f\"http://127.0.0.1:{PORT}\"\n",
    "print(BASE_URL)"
   ]
  },
  {
   "cell_type": "code",
   "execution_count": null,
   "id": "49c5373d-ab52-4bf1-8639-c2d753c684ef",
   "metadata": {},
   "outputs": [],
   "source": [
    "from ollama import Client\n",
    "client = Client(\n",
    "  host=BASE_URL,\n",
    ")"
   ]
  },
  {
   "cell_type": "markdown",
   "id": "1d2e227c-803e-4f3b-a01a-e54c8d27ee0a",
   "metadata": {},
   "source": [
    "### Get a List of Local Models"
   ]
  },
  {
   "cell_type": "code",
   "execution_count": 9,
   "id": "25fc7510-856b-4a2e-a275-a8f5660edc8d",
   "metadata": {},
   "outputs": [
    {
     "name": "stdout",
     "output_type": "stream",
     "text": [
      "qwen3:latest\n",
      "llama3:latest\n",
      "gemma3:latest\n",
      "deepseek-r1:1.5b\n"
     ]
    }
   ],
   "source": [
    "def get_local_models():\n",
    "    for model in client.list()['models']:\n",
    "        print(model['model'])\n",
    "\n",
    "get_local_models()"
   ]
  },
  {
   "cell_type": "markdown",
   "id": "df78d5ba-d8a6-4239-a50a-2c357bcee143",
   "metadata": {},
   "source": [
    "### Pull The Model"
   ]
  },
  {
   "cell_type": "code",
   "execution_count": null,
   "id": "97bd9c31-221a-4efa-a89c-6ba496f866fb",
   "metadata": {},
   "outputs": [],
   "source": [
    "# Pulling the model\n",
    "client.pull(\"gemma3\")"
   ]
  },
  {
   "cell_type": "markdown",
   "id": "2d072bf1-bd45-4977-871e-885c983e2808",
   "metadata": {},
   "source": [
    "### Running a sample query for testing the server connection"
   ]
  },
  {
   "cell_type": "code",
   "execution_count": 10,
   "id": "3f267a07-1425-48f8-8aad-8ec8236c05fe",
   "metadata": {},
   "outputs": [
    {
     "data": {
      "text/plain": [
       "\"The sky appears blue because of a phenomenon called Rayleigh scattering, named after the British physicist Lord Rayleigh. Here's what happens:\\n\\nWhen sunlight enters Earth's atmosphere, it encounters tiny molecules of gases such as nitrogen (N2) and oxygen (O2). These molecules are much smaller than the wavelength of visible light, which is around 400-700 nanometers.\\n\\nAs a result, the shorter wavelengths of light, like blue and violet, are scattered more than the longer wavelengths, like red and orange. This scattering effect is greater for shorter wavelengths because the small gas molecules are more effective at interacting with these shorter wavelengths.\\n\\nThe scattered blue and violet light is then distributed evenly throughout the sky, giving it a blue appearance. The color of the sky can vary depending on factors such as:\\n\\n1. Time of day: During sunrise and sunset, the sun's rays have to travel longer distances through the atmosphere, scattering more light and making the sky appear more red or orange.\\n2. Atmospheric conditions: Dust, pollution, and water vapor in the air can scatter light in different ways, changing the apparent color of the sky.\\n3. Altitude and atmospheric pressure: At higher altitudes, the air is thinner, and there are fewer molecules to scatter light, making the sky appear more intense blue.\\n\\nSo, to summarize, the sky appears blue because of the scattering of sunlight by tiny gas molecules in the Earth's atmosphere, with shorter wavelengths like blue being scattered more than longer wavelengths like red.\""
      ]
     },
     "execution_count": 10,
     "metadata": {},
     "output_type": "execute_result"
    }
   ],
   "source": [
    "response = client.chat(model='llama3', messages=[\n",
    "  {\n",
    "    'role': 'user',\n",
    "    'content': 'Why is the sky blue?',\n",
    "  },\n",
    "])\n",
    "response['message']['content']"
   ]
  },
  {
   "cell_type": "code",
   "execution_count": 12,
   "id": "76b0b12d-cfb2-47ca-9cae-1ac42ebb8a61",
   "metadata": {},
   "outputs": [
    {
     "name": "stdout",
     "output_type": "stream",
     "text": [
      "The blue color of the sky is a fascinating phenomenon caused by a process called **Rayleigh scattering**. Here's a breakdown of why it happens:\n",
      "\n",
      "**1. Sunlight and Colors:**\n",
      "\n",
      "* Sunlight is actually made up of *all* the colors of the rainbow. We often think of it as white, but that’s because it’s a mixture of these colors.\n",
      "\n",
      "**2. Entering the Atmosphere:**\n",
      "\n",
      "* When sunlight enters the Earth's atmosphere, it collides with tiny air molecules (mostly nitrogen and oxygen).\n",
      "\n",
      "**3. Rayleigh Scattering:**\n",
      "\n",
      "* **This is the key!** Rayleigh scattering describes how light is scattered by particles that are much smaller than its wavelength.  Shorter wavelengths of light (like blue and violet) are scattered *much* more strongly than longer wavelengths (like red and orange).\n",
      "* Think of it like throwing a small ball (blue light) at a bumpy surface – it’s going to bounce off in all directions.  A larger ball (red light) would be less affected.\n",
      "\n",
      "**4. Why Blue Specifically?**\n",
      "\n",
      "* **Blue is scattered more effectively:** Because blue light has a shorter wavelength, it's scattered about 10 times more than red light.\n",
      "* **Our Eyes See Blue:**  This scattered blue light is dispersed throughout the entire sky. When we look up, we’re seeing this scattered blue light.\n",
      "\n",
      "**5. Why Not Violet?**\n",
      "\n",
      "* Violet light has an even shorter wavelength than blue, so it's scattered even *more*. However, there are a couple of reasons why we see blue instead of violet:\n",
      "    * **Sunlight's Spectrum:** The sun emits slightly less violet light than blue light.\n",
      "    * **Our Eyes' Sensitivity:** Our eyes are less sensitive to violet light than blue.\n",
      "\n",
      "\n",
      "**In short:  Blue light is scattered more by the atmosphere, so it’s what we see when we look at the sky.**\n",
      "\n",
      "---\n",
      "\n",
      "**Think of it like this analogy:**\n",
      "\n",
      "Imagine shaking a box full of differently colored marbles. If you shake it gently, the smaller, lighter marbles (blue) will bounce around more, scattering in all directions.  The larger, darker marbles (red) will be less affected and mostly stay together.\n",
      "\n",
      "---\n",
      "\n",
      "**Resources for further learning:**\n",
      "\n",
      "* **NASA - Why is the sky blue?:** [https://science.nasa.gov/sky-science/why-is-the-sky-blue/](https://science.nasa.gov/sky-science/why-is-the-sky-blue/)\n",
      "* **Wikipedia - Rayleigh scattering:** [https://en.wikipedia.org/wiki/Rayleigh_scattering](https://en.wikipedia.org/wiki/Rayleigh_scattering)\n",
      "\n",
      "\n",
      "Do you want me to explain anything in more detail, like:\n",
      "\n",
      "*   Why sunsets are red?\n",
      "*   How this relates to other scattering phenomena?"
     ]
    }
   ],
   "source": [
    "stream = client.chat(\n",
    "    model='gemma3',\n",
    "    messages=[{'role': 'user', 'content': 'Why is the sky blue?'}],\n",
    "    stream=True,\n",
    ")\n",
    "\n",
    "for chunk in stream:\n",
    "  print(chunk['message']['content'], end='', flush=True)"
   ]
  },
  {
   "cell_type": "code",
   "execution_count": 18,
   "id": "9dd39d0b-de1f-47ce-a217-e470f264351a",
   "metadata": {},
   "outputs": [
    {
     "name": "stdout",
     "output_type": "stream",
     "text": [
      "The blue color of the sky is a fascinating phenomenon called **Rayleigh scattering**. Here's a breakdown of why it happens:\n",
      "\n",
      "**1. Sunlight and its Colors:**\n",
      "\n",
      "* Sunlight is actually made up of *all* the colors of the rainbow – red, orange, yellow, green, blue, indigo, and violet. You can see this when sunlight passes through a prism.\n",
      "\n",
      "**2. Entering the Atmosphere:**\n",
      "\n",
      "* When sunlight enters the Earth's atmosphere, it bumps into tiny air molecules (mostly nitrogen and oxygen).\n",
      "\n",
      "**3. Rayleigh Scattering:**\n",
      "\n",
      "* **This is the key.** Rayleigh scattering describes how light is scattered by particles that are *much* smaller than its wavelength.\n",
      "* Blue and violet light have shorter wavelengths than other colors like red and orange.\n",
      "* Because of their shorter wavelengths, blue and violet light are scattered *much* more strongly by the air molecules than other colors. Think of it like smaller waves getting bounced around more easily in choppy water.\n",
      "\n",
      "**4. Why Blue, Not Violet?**\n",
      "\n",
      "* Violet light is actually scattered *more* than blue light. However, our eyes are more sensitive to blue light, and the sun emits slightly less violet light.  Additionally, some of the violet light is absorbed higher in the atmosphere.  Therefore, we perceive the sky as blue.\n",
      "\n",
      "**5. Seeing Different Colors at Sunset/Sunrise:**\n",
      "\n",
      "* When the sun is low on the horizon (during sunset and sunrise), sunlight has to travel through *much* more of the atmosphere to reach our eyes.\n",
      "* This long journey scatters away most of the blue light. The remaining colors – orange and red – which have longer wavelengths, are less scattered and can reach our eyes directly.  That's why sunsets and sunrises often appear red or orange.\n",
      "\n",
      "\n",
      "\n",
      "**In short:** The sky is blue because air molecules scatter blue light from the sun more than they scatter other colors.\n",
      "\n",
      "---\n",
      "\n",
      "**Resources to learn more:**\n",
      "\n",
      "* **NASA - Why is the sky blue?** [https://science.nasa.gov/sky-science/why-is-the-sky-blue/](https://science.nasa.gov/sky-science/why-is-the-sky-blue/)\n",
      "* **National Geographic - Why is the Sky Blue?** [https://www.nationalgeographic.org/encyclopedia/sky](https://www.nationalgeographic.org/encyclopedia/sky)\n",
      "\n",
      "\n",
      "Do you want to delve deeper into any specific aspect of this explanation, such as:\n",
      "\n",
      "*   The physics behind scattering?\n",
      "*   How it relates to clouds?\n",
      "*   How it differs on other planets?"
     ]
    }
   ],
   "source": [
    "import asyncio\n",
    "from ollama import AsyncClient\n",
    "\n",
    "async def chat():\n",
    "    message = {'role': 'user', 'content': 'Why is the sky blue?'}\n",
    "\n",
    "    client = AsyncClient(host=BASE_URL)\n",
    "    async for part in await client.chat(model='gemma3', messages=[message], stream=True):\n",
    "        print(part['message']['content'], end='', flush=True)\n",
    "\n",
    "# asyncio.run(chat())\n",
    "# Run this way in Jupyter/IPython:\n",
    "await chat()"
   ]
  },
  {
   "cell_type": "code",
   "execution_count": 13,
   "id": "57dfbe22-0c28-4578-a6c0-16bdeb035bed",
   "metadata": {},
   "outputs": [],
   "source": [
    "import asyncio\n",
    "from ollama import AsyncClient\n",
    "\n",
    "# Stores full conversation history\n",
    "messages = []\n",
    "\n",
    "async def chat_loop(model='llama3'):\n",
    "    client = AsyncClient(host=BASE_URL)  # or your Singularity host\n",
    "\n",
    "    print(\"🤖 Chat started — type 'exit' to quit.\\n\")\n",
    "\n",
    "    while True:\n",
    "        user_input = input(\"👤 You: \")\n",
    "        if user_input.lower().strip() in {\"exit\", \"quit\"}:\n",
    "            print(\"👋 Goodbye!\")\n",
    "            break\n",
    "\n",
    "        # Add user input to history\n",
    "        messages.append({\"role\": \"user\", \"content\": user_input})\n",
    "\n",
    "        print(\"🤖 Ollama:\", end=\" \", flush=True)\n",
    "        assistant_reply = \"\"\n",
    "\n",
    "        async for chunk in await client.chat(\n",
    "            model=model,\n",
    "            messages=messages,\n",
    "            stream=True\n",
    "        ):\n",
    "            if chunk.get(\"message\"):\n",
    "                part = chunk[\"message\"][\"content\"]\n",
    "                print(part, end='', flush=True)\n",
    "                assistant_reply += part\n",
    "\n",
    "        print(\"\\n\")  # Newline after full reply\n",
    "\n",
    "        # Add assistant reply to history\n",
    "        messages.append({\"role\": \"assistant\", \"content\": assistant_reply})\n",
    "\n",
    "# In Jupyter, run with `await chat_loop()`\n",
    "# In CLI script, run with:\n"
   ]
  },
  {
   "cell_type": "code",
   "execution_count": 15,
   "id": "19b088e1-da2e-40f0-b3a6-680b541d582d",
   "metadata": {},
   "outputs": [
    {
     "name": "stdout",
     "output_type": "stream",
     "text": [
      "🤖 Chat started — type 'exit' to quit.\n",
      "\n"
     ]
    },
    {
     "name": "stdout",
     "output_type": "stream",
     "text": [
      "👤 You:  hello\n"
     ]
    },
    {
     "name": "stdout",
     "output_type": "stream",
     "text": [
      "🤖 Ollama: <think>\n",
      "Okay, the user said \"hello\" twice. They might just be testing the response or starting a conversation. I should greet them back and ask how I can assist. Maybe they have a specific question or need help with something. Let me keep it friendly and open-ended.\n",
      "</think>\n",
      "\n",
      "Hello! 😊 How can I assist you today? If you have any questions or need help with something, feel free to let me know!\n",
      "\n"
     ]
    },
    {
     "name": "stdout",
     "output_type": "stream",
     "text": [
      "👤 You:  exit\n"
     ]
    },
    {
     "name": "stdout",
     "output_type": "stream",
     "text": [
      "👋 Goodbye!\n"
     ]
    }
   ],
   "source": [
    "await chat_loop('qwen3')"
   ]
  },
  {
   "cell_type": "code",
   "execution_count": null,
   "id": "9ab594ae-1149-4c9a-98b6-25adc60d058f",
   "metadata": {},
   "outputs": [],
   "source": []
  }
 ],
 "metadata": {
  "kernelspec": {
   "display_name": "Python 3 (ipykernel)",
   "language": "python",
   "name": "python3"
  },
  "language_info": {
   "codemirror_mode": {
    "name": "ipython",
    "version": 3
   },
   "file_extension": ".py",
   "mimetype": "text/x-python",
   "name": "python",
   "nbconvert_exporter": "python",
   "pygments_lexer": "ipython3",
   "version": "3.13.5"
  }
 },
 "nbformat": 4,
 "nbformat_minor": 5
}
