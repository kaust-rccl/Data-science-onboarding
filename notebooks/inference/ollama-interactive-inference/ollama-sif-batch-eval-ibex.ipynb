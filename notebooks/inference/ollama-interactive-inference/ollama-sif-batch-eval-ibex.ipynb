{
 "cells": [
  {
   "cell_type": "markdown",
   "id": "b0ea5656",
   "metadata": {},
   "source": [
    "# Ollama Batch Evaluation Guide (LLM-as-a-Judge)"
   ]
  },
  {
   "cell_type": "markdown",
   "id": "9822d045",
   "metadata": {},
   "source": [
    "> This page was generated from [ollama-interactive-inference/ollama-sif-batch-eval-ibex.ipynb](https://github.com/kaust-rccl/Data-science-onboarding/tree/main/notebooks/inference/ollama-interactive-inference/ollama-sif-batch-eval-ibex.ipynb). You can [view or download notebook](https://github.com/kaust-rccl/Data-science-onboarding/tree/main/notebooks/inference/ollama-interactive-inference/ollama-sif-batch-eval-ibex.ipynb). Or [view it on nbviewer](https://nbviewer.org/github/kaust-rccl/Data-science-onboarding/tree/main/notebooks/inference/ollama-interactive-inference/ollama-sif-batch-eval-ibex.ipynb)"
   ]
  },
  {
   "cell_type": "markdown",
   "id": "db18baaa",
   "metadata": {},
   "source": [
    "## Objective\n",
    "This guide helps you evaluate multiple model responses automatically using Ollama’s batch evaluation feature. Instead of manually scoring outputs, an LLM acts as a judge, comparing predictions against reference answers or quality criteria you define.\n",
    "\n",
    "## Initial Setup\n",
    "If you have not completed the initial Conda environment setup and JupyterLab access steps, please refer to [OLLama on Ibex Guide - Approach-2: Notebook Workflows (Jupyter Bases).](https://docs.hpc.kaust.edu.sa/soft_env/job_schd/slurm/interactive_jobs/ollama/index.html#approach-2-notebook-workflows-jupyter-based)"
   ]
  },
  {
   "cell_type": "markdown",
   "id": "5c4e0488-9b7e-4b87-8fcb-bf179f2e0530",
   "metadata": {},
   "source": [
    "## Starting the Ollama Server\n",
    "Start the OLLAMA REST API server using the following bash script in a terminal:\n",
    "\n",
    "The script has the following:\n",
    "- A user editable section, where the user defines Ollama models scratch directory.\n",
    "- The allocated port is saved in a temporary ollama_port.txt file, in order to be used in the Python notebook to read the assigned port to Ollama server.\n",
    "- Cleanup section in order to stop the singularity instance when the script is terminated.\n",
    "\n",
    "### User Modification Section\n",
    "- This section of the script is reserved for user-specific setup to set the directory where the Ollama models are pulled locally.\n",
    "- In the script, you will find a clearly marked block:\n",
    "    ```bash\n",
    "    # ------------------------------------\n",
    "    # START OF USER MODIFICATION SECTION\n",
    "    # ------------------------------------\n",
    "    ```\n",
    "    \n",
    "> Note: Do not modify other parts of the script unless you are sure, as they are required for correct execution."
   ]
  },
  {
   "cell_type": "code",
   "execution_count": 1,
   "id": "fb12f5c7-95d3-4195-8409-d09ab0e91cc0",
   "metadata": {},
   "outputs": [
    {
     "name": "stdout",
     "output_type": "stream",
     "text": [
      "Running pre-start cleanup...\n",
      "Cleanup complete — ready to start new instance.\n",
      "Loading module for Singularity\n",
      "Singularity 3.9.7 modules now loaded\n",
      "OLLAMA PORT: 34321  -- Stored in ollama_port.txt\n"
     ]
    },
    {
     "name": "stderr",
     "output_type": "stream",
     "text": [
      "ollama-server-start.sh: line 9: singularity: command not found\n",
      "FATAL:   Image file already exists: \"ollama.sif\" - will not overwrite\n"
     ]
    },
    {
     "name": "stdout",
     "output_type": "stream",
     "text": [
      "Ollama server started. Logs at: /ibex/user/solimaay/scripts/jupyter/631115-ollama-sif/ibex-nb/ollama_server.log\n"
     ]
    },
    {
     "name": "stderr",
     "output_type": "stream",
     "text": [
      "INFO:    instance started successfully\n"
     ]
    },
    {
     "data": {
      "text/plain": [
       "CompletedProcess(args=['bash', 'ollama-server-start.sh'], returncode=0)"
      ]
     },
     "execution_count": 1,
     "metadata": {},
     "output_type": "execute_result"
    }
   ],
   "source": [
    "import os, subprocess\n",
    "\n",
    "script_content = \"\"\"\n",
    "#!/bin/bash\n",
    "\n",
    "# Pre-start cleanup: ensure no stale instances or files\n",
    "pre_cleanup() {\n",
    "    echo \"Running pre-start cleanup...\"\n",
    "\n",
    "    # 1. Stop any running Singularity instance with the same name\n",
    "    if singularity instance list | grep -q \"$SINGULARITY_INSTANCE_NAME\"; then\n",
    "        echo \"Stopping existing Singularity instance: $SINGULARITY_INSTANCE_NAME\"\n",
    "        singularity instance stop \"$SINGULARITY_INSTANCE_NAME\"\n",
    "    fi\n",
    "\n",
    "    # 2. Remove old temporary or state files\n",
    "    if [ -n \"$OLLAMA_PORT_TXT_FILE\" ] && [ -f \"$OLLAMA_PORT_TXT_FILE\" ]; then\n",
    "        echo \"Removing old port file: $OLLAMA_PORT_TXT_FILE\"\n",
    "        rm -f \"$OLLAMA_PORT_TXT_FILE\"\n",
    "    fi\n",
    "\n",
    "    if [ -n \"$OLLAMA_LOG_FILE\" ] && [ -f \"$OLLAMA_LOG_FILE\" ]; then\n",
    "        echo \"Removing old log file: $OLLAMA_LOG_FILE\"\n",
    "        rm -f \"$OLLAMA_LOG_FILE\"\n",
    "    fi\n",
    "\n",
    "    echo \"Cleanup complete — ready to start new instance.\"\n",
    "}\n",
    "\n",
    "# Cleanup process while exiting the server\n",
    "cleanup() {\n",
    "    echo \"🧹   Cleaning up before exit...\"\n",
    "    # Put your exit commands here, e.g.:\n",
    "    rm -f $OLLAMA_PORT_TXT_FILE\n",
    "    # Remove the Singularity instance\n",
    "    singularity instance stop $SINGULARITY_INSTANCE_NAME\n",
    "}\n",
    "trap cleanup SIGINT  # Catch Ctrl+C (SIGINT) and run cleanup\n",
    "pre_cleanup\n",
    "\n",
    "# --------------------------------\n",
    "# START OF USER MODIFICATION SECTION\n",
    "# --------------------------------\n",
    "# Make target directory on /ibex/user/$USER/ollama_models_scratch to store your Ollama models\n",
    "export OLLAMA_MODELS_SCRATCH=/ibex/user/$USER/ollama_models_scratch\n",
    "# --------------------------------\n",
    "# END OF USER Editable Section\n",
    "# --------------------------------\n",
    "\n",
    "mkdir -p $OLLAMA_MODELS_SCRATCH\n",
    "\n",
    "SINGULARITY_INSTANCE_NAME='ollama'\n",
    "SINGULARITY_SIF_FILE=\"${SINGULARITY_INSTANCE_NAME}.sif\"\n",
    "OLLAMA_PORT_TXT_FILE='ollama_port.txt'\n",
    "LOG_FILE=$PWD/ollama_server.log\n",
    "\n",
    "# 2. Load Singularity module\n",
    "module load singularity\n",
    "\n",
    "# 3. Pull OLLAMA docker image\n",
    "singularity pull --name $SINGULARITY_SIF_FILE docker://ollama/ollama\n",
    "\n",
    "# 4. Change the default port for OLLAMA_HOST: (default 127.0.0.1:11434)\n",
    "export PORT=$(python -c 'import socket; s=socket.socket(); s.bind((\"\", 0)); print(s.getsockname()[1]); s.close()')\n",
    "\n",
    "# 5. Copy the assigned port, it will be required in the second part during working on the notebook.\n",
    "echo \"$PORT\" > $OLLAMA_PORT_TXT_FILE\n",
    "\n",
    "echo \"OLLAMA PORT: $PORT  -- Stored in $OLLAMA_PORT_TXT_FILE\"\n",
    "\n",
    "# 6. Define the OLLAMA Host\n",
    "export SINGULARITYENV_OLLAMA_HOST=127.0.0.1:$PORT\n",
    "\n",
    "# 7. Change the default model directory stored: \n",
    "export SINGULARITYENV_OLLAMA_MODELS=$OLLAMA_MODELS_SCRATCH\n",
    "\n",
    "# 8. Create an Instance:\n",
    "singularity instance start --nv -B \"/ibex/user:/ibex/user\" $SINGULARITY_SIF_FILE $SINGULARITY_INSTANCE_NAME\n",
    "\n",
    "# 7. Run the OLLAMA REST API server on the background\n",
    "nohup singularity exec instance://$SINGULARITY_INSTANCE_NAME bash -c \"ollama serve\" > $LOG_FILE 2>&1 &\n",
    "echo \"Ollama server started. Logs at: $LOG_FILE\"\n",
    "\"\"\"\n",
    "\n",
    "# Write script file\n",
    "script_path = \"ollama-server-start.sh\"\n",
    "with open(script_path, \"w\") as f:\n",
    "    f.write(script_content)\n",
    "os.chmod(script_path, 0o755)\n",
    "\n",
    "# Run script\n",
    "subprocess.run([\"bash\", script_path])"
   ]
  },
  {
   "cell_type": "markdown",
   "id": "f4e87946-05e4-4f00-b71a-a00cd89f31c8",
   "metadata": {},
   "source": [
    "## Using Ollama Packages Requests\n",
    "Follow the following Python notebook below, it contains the codes for:\n",
    "- Initialization Setup.\n",
    "- List local models.\n",
    "- Pull models.\n",
    "- Testing connection to the Ollama server.\n",
    "- Chat with the models."
   ]
  },
  {
   "cell_type": "markdown",
   "id": "0c9f194e-c96a-435f-8008-99b63126c62f",
   "metadata": {},
   "source": [
    "### 1. Initialization\n",
    "1. Define the base URL for the remote Ollama Server.\n",
    "2. Testing the Ollama server connectivity."
   ]
  },
  {
   "cell_type": "code",
   "execution_count": 2,
   "id": "965e31e2-2c23-48ce-bad0-d73d19e0383f",
   "metadata": {},
   "outputs": [],
   "source": [
    "import asyncio\n",
    "from ollama import AsyncClient\n",
    "from typing import List, Dict\n",
    "\n",
    "MAX_CONCURRENT = 2  # limit to avoid GPU overload"
   ]
  },
  {
   "cell_type": "code",
   "execution_count": 3,
   "id": "9f97d9b1-88ba-4e32-8613-127e9d292634",
   "metadata": {},
   "outputs": [
    {
     "name": "stdout",
     "output_type": "stream",
     "text": [
      "http://127.0.0.1:34321\n"
     ]
    }
   ],
   "source": [
    "# Configuration\n",
    "with open(\"ollama_port.txt\") as f :\n",
    "    PORT = f.read().strip()\n",
    "    \n",
    "BASE_URL=f\"http://127.0.0.1:{PORT}\"\n",
    "print(BASE_URL)"
   ]
  },
  {
   "cell_type": "code",
   "execution_count": 4,
   "id": "cb259eaa-388a-4157-8f70-69ffdd80a931",
   "metadata": {},
   "outputs": [
    {
     "name": "stdout",
     "output_type": "stream",
     "text": [
      "Ollama is running! 200\n"
     ]
    }
   ],
   "source": [
    "# Testing the server connectivity\n",
    "import requests\n",
    "\n",
    "try:\n",
    "    r = requests.get(BASE_URL)\n",
    "    print(\"Ollama is running!\", r.status_code)\n",
    "except requests.ConnectionError as e:\n",
    "    print(\"Ollama is NOT reachable:\", e)"
   ]
  },
  {
   "cell_type": "markdown",
   "id": "1d42bfc3-bd60-4c96-984d-54bf4112e56c",
   "metadata": {},
   "source": [
    "### 2. Get a List of Local Models\n",
    "- Get a list of locally available Ollama models.\n",
    "- Locally available models are located under path: */ibex/user/$USER/ollama_models_scratch*\n",
    "- To change the location for pulled models, modify the variable *OLLAMA_MODELS_SCRATCH* in the script*start_ollama_server.sh*"
   ]
  },
  {
   "cell_type": "code",
   "execution_count": 5,
   "id": "fdbdc6e8-3d93-4063-b186-54a7afba8f49",
   "metadata": {},
   "outputs": [],
   "source": [
    "from ollama import Client\n",
    "client = Client(\n",
    "  host=BASE_URL,\n",
    ")\n",
    "\n",
    "def get_local_models():\n",
    "    \"\"\"\n",
    "    Returns a list of locally available Ollama Models.\n",
    "\n",
    "    Returns:\n",
    "        list: A list of model names as strings\n",
    "    \"\"\"\n",
    "    models = [model['model'] for model in client.list()['models']]\n",
    "    return models"
   ]
  },
  {
   "cell_type": "code",
   "execution_count": 6,
   "id": "a877e166-05a6-43fb-aed5-f817c1cd7c18",
   "metadata": {},
   "outputs": [
    {
     "data": {
      "text/plain": [
       "['phi3:3.8b', 'qwen3:0.6b', 'gemma3:270m']"
      ]
     },
     "execution_count": 6,
     "metadata": {},
     "output_type": "execute_result"
    }
   ],
   "source": [
    "# Usage\n",
    "get_local_models()"
   ]
  },
  {
   "cell_type": "markdown",
   "id": "24aea834-7c62-47c3-9381-b31d1e281367",
   "metadata": {},
   "source": [
    "### 3. Pull The Model\n",
    "- To pull a specific model, use *pull* method.\n",
    "- Please refer to [Ollama Library](https://ollama.com/library) to check available models."
   ]
  },
  {
   "cell_type": "code",
   "execution_count": 26,
   "id": "49d338e9-756a-4a79-b578-12201bc3c397",
   "metadata": {},
   "outputs": [
    {
     "data": {
      "text/plain": [
       "ProgressResponse(status='success', completed=None, total=None, digest=None)"
      ]
     },
     "execution_count": 26,
     "metadata": {},
     "output_type": "execute_result"
    }
   ],
   "source": [
    "# Pull the required models\n",
    "client.pull(\"qwen3:0.6b\")"
   ]
  },
  {
   "cell_type": "markdown",
   "id": "5def6220-da2c-4ae7-95fb-ecc8bcd71878",
   "metadata": {},
   "source": [
    "### 4. Running Batch Eval"
   ]
  },
  {
   "cell_type": "code",
   "execution_count": 7,
   "id": "c568725e-4b07-42cc-b625-9a63e9a95cd3",
   "metadata": {},
   "outputs": [],
   "source": [
    "async def ensure_model_exists(client: AsyncClient, model: str):\n",
    "    \"\"\"\n",
    "    Ensure that a specified Ollama model is available locally.  \n",
    "    If the model is not installed, it will be pulled from the server.\n",
    "\n",
    "    Args:\n",
    "        client (AsyncClient): An instance of the AsyncClient connected to the Ollama server.\n",
    "        model (str): Name of the model to check and pull if necessary.\n",
    "\n",
    "    Raises:\n",
    "        Exception: If pulling or checking the model fails.\n",
    "    \"\"\"\n",
    "    try:\n",
    "        # Check if the model is already available\n",
    "        await client.show(model)\n",
    "        print(f\"Model {model} already available locally.\")\n",
    "    except Exception:\n",
    "        # Pull the model if it does not exist\n",
    "        print(f\"Pulling model {model}...\")\n",
    "        async for progress in await client.pull(model, stream=True):\n",
    "            status = progress.get(\"status\", \"\")\n",
    "            if \"completed\" in status.lower():\n",
    "                print(f\"Pulled {model} successfully.\")\n",
    "        print(f\"Model {model} is now ready for use.\")"
   ]
  },
  {
   "cell_type": "code",
   "execution_count": 8,
   "id": "3b004284-a295-4fb3-b8fa-4c90b2036ef6",
   "metadata": {},
   "outputs": [],
   "source": [
    "async def query_model_async(client: AsyncClient, model: str, prompt: str) -> str:\n",
    "    \"\"\"\n",
    "    Send a single prompt to a specified Ollama model asynchronously and return the full response.\n",
    "\n",
    "    Args:\n",
    "        client (AsyncClient): An instance of AsyncClient connected to the Ollama server.\n",
    "        model (str): Name of the Ollama model to query.\n",
    "        prompt (str): The user input to send to the model.\n",
    "\n",
    "    Returns:\n",
    "        str: The complete response text from the model.\n",
    "\n",
    "    Raises:\n",
    "        Exception: If the chat request fails.\n",
    "    \"\"\"\n",
    "    messages = [{\"role\": \"user\", \"content\": prompt}]\n",
    "    response = \"\"\n",
    "    \n",
    "    async for chunk in await client.chat(model=model, messages=messages, stream=True):\n",
    "        if chunk.get(\"message\") and \"content\" in chunk[\"message\"]:\n",
    "            response += chunk[\"message\"][\"content\"]\n",
    "    return response"
   ]
  },
  {
   "cell_type": "code",
   "execution_count": 9,
   "id": "8f0128cd-ab09-4a1c-9346-1590f0649863",
   "metadata": {},
   "outputs": [],
   "source": [
    "async def run_batch(models: List[str], prompt: str) -> Dict[str, str]:\n",
    "    \"\"\"\n",
    "    Run multiple model inferences concurrently while limiting active requests.\n",
    "\n",
    "    This function uses asynchronous concurrency control to efficiently query \n",
    "    multiple models in parallel, ensuring that no more than `max_concurrent` \n",
    "    requests are active at a time. Each model is checked for availability before \n",
    "    being queried, and missing models are automatically pulled.\n",
    "\n",
    "    Args:\n",
    "        models (List[str]): A list of model names to query.\n",
    "        prompt (str): The user input or question to be sent to each model.\n",
    "        base_url (str, optional): The base URL of the Ollama API endpoint.\n",
    "        max_concurrent (int, optional): The maximum number of models to run concurrently.\n",
    "\n",
    "    Returns:\n",
    "        Dict[str, str]: A dictionary mapping model names to their response text.\n",
    "    \"\"\"\n",
    "    client = AsyncClient(host=BASE_URL)\n",
    "    semaphore = asyncio.Semaphore(MAX_CONCURRENT)\n",
    "\n",
    "    async def safe_query(model):\n",
    "        async with semaphore:\n",
    "            # Ensure model is available before querying\n",
    "            await ensure_model_exists(client, model)\n",
    "            print(f\"Running {model}...\")\n",
    "            result = await query_model_async(client, model, prompt)\n",
    "            print(f\"Done: {model}\")\n",
    "            return model, result\n",
    "\n",
    "    results = await asyncio.gather(*(safe_query(m) for m in models))\n",
    "    return dict(results)"
   ]
  },
  {
   "cell_type": "code",
   "execution_count": 10,
   "id": "0eaa0a66-0dc1-4080-93d7-67e97678b2e1",
   "metadata": {},
   "outputs": [],
   "source": [
    "async def judge_model_responses(\n",
    "    client: AsyncClient,\n",
    "    judge_model: str,\n",
    "    responses: Dict[str, str],\n",
    "    criteria: str\n",
    ") -> Dict[str, Dict[str, str]]:\n",
    "    \"\"\"\n",
    "    Use an LLM to evaluate the outputs of other models according to a given criteria.\n",
    "\n",
    "    Args:\n",
    "        client (AsyncClient): An instance of AsyncClient connected to the Ollama server.\n",
    "        responses (Dict[str, str]): A dictionary mapping model names to their outputs.\n",
    "        criteria (str): Evaluation criteria to guide the judging process.\n",
    "        judge_model (str, optional): The model used as the judge. Defaults to \"llama3\".\n",
    "\n",
    "    Returns:\n",
    "        Dict[str, Dict[str, str]]: A dictionary mapping each evaluated model to its judgment,\n",
    "        containing keys like \"evaluation\" with the judge's reasoning and score.\n",
    "\n",
    "    Raises:\n",
    "        Exception: If model evaluation fails or judge model cannot be ensured.\n",
    "    \"\"\"\n",
    "    judged = {}\n",
    "    \n",
    "    # Ensure the judge model exists locally\n",
    "    await ensure_model_exists(client, judge_model)\n",
    "\n",
    "    for model, answer in responses.items():\n",
    "        judge_prompt = f\"\"\"\n",
    "You are an impartial judge. Evaluate the following answer according to {criteria}.\n",
    "\n",
    "Answer:\n",
    "{answer}\n",
    "\n",
    "Give:\n",
    "- Reasoning\n",
    "- Score from 1 to 10\n",
    "\"\"\"\n",
    "        eval_resp = await query_model_async(client, judge_model, judge_prompt)\n",
    "        judged[model] = {\"evaluation\": eval_resp}\n",
    "        \n",
    "    return judged"
   ]
  },
  {
   "cell_type": "code",
   "execution_count": 11,
   "id": "892ba43c-7632-4847-862a-32e687e39e61",
   "metadata": {},
   "outputs": [],
   "source": [
    "async def main():\n",
    "    # Define List of Models [model_1, model_2, ...]\n",
    "    models = ['qwen3:0.6b', 'gemma3:270m']\n",
    "    # Define the Judge LLM model\n",
    "    judge_model = \"phi3:3.8b\"\n",
    "    # Define the prompt\n",
    "    prompt = \"What is 1+1 equal?\"\n",
    "    client = AsyncClient(host=BASE_URL)\n",
    "\n",
    "    # 1. Run models (with auto-pull if missing)\n",
    "    responses = await run_batch(models, prompt)\n",
    "\n",
    "    # 2. Judge responses\n",
    "    evaluations = await judge_model_responses(client, judge_model, responses, \"clarity, correctness, and conciseness\")\n",
    "\n",
    "    # 3. Display\n",
    "    for m in models:\n",
    "        print(f\"\\n--- {m} ---\")\n",
    "        print(\"Response:\\n\", responses[m])\n",
    "        print(\"Evaluation:\\n\", evaluations[m][\"evaluation\"])"
   ]
  },
  {
   "cell_type": "code",
   "execution_count": 12,
   "id": "689e1ab9-712e-4dc4-9850-94e089c61675",
   "metadata": {},
   "outputs": [
    {
     "name": "stdout",
     "output_type": "stream",
     "text": [
      "Model qwen3:0.6b already available locally.\n",
      "Running qwen3:0.6b...\n",
      "Model gemma3:270m already available locally.\n",
      "Running gemma3:270m...\n",
      "Done: gemma3:270m\n",
      "Done: qwen3:0.6b\n",
      "Model phi3:3.8b already available locally.\n",
      "\n",
      "--- qwen3:0.6b ---\n",
      "Response:\n",
      " 1 + 1 equals 2.\n",
      "Evaluation:\n",
      " Reasoning: The provided response is succinct, accurate in terms of basic arithmetic principles (one plus one indeed yields two), and unambiguous due to the straightforward language used. Therefore, it effectively conveys a simple mathematical truth with minimal words required.\n",
      "\n",
      "Score: I would give this answer an 8 out of 10 for clarity, correctness, and conciseness. The response could potentially be enhanced by providing context or stating that \"one plus one equals two\" explicitly defines the operation performed (addition), yet it remains unambiguous without such additions. However, as a standalone statement about an arithmetic fact, its simplicity is commendable, warranting this high score with just slight room for improvement.\n",
      "\n",
      "--- gemma3:270m ---\n",
      "Response:\n",
      " 1 + 1 = 2\n",
      "\n",
      "Evaluation:\n",
      " \n",
      "Reasoning: The provided statement presents a basic arithmetic operation which is the addition of two integers, both equal to one. This expression directly follows mathematical conventions for representing simple summation and provides an immediate answer without any ambiguity or extraneous information. As such, it adheres well to principles requiring clarity, correctness, and conciseness in presenting basic calculations within a mathematics context.\n",
      "\n",
      "Score: 10/10 - The statement is clear, completely accurate for the operation performed (simple addition), and succinctly conveys the necessary information without superfluous details or unnecessary complexity that would detract from its quality as an answer to this mathematical expression problem.\n"
     ]
    }
   ],
   "source": [
    "await main()"
   ]
  },
  {
   "cell_type": "markdown",
   "id": "c4553778-4c3d-4777-8a83-a52b49c15a3c",
   "metadata": {},
   "source": [
    "## Stop the Ollama Server\n",
    "Make sure to stop the Ollama server by terminating the Singularity container."
   ]
  },
  {
   "cell_type": "code",
   "execution_count": 13,
   "id": "1cab1430-603e-4d4f-9fa3-f271fc1be9a2",
   "metadata": {},
   "outputs": [],
   "source": [
    "import subprocess\n",
    "import os\n",
    "\n",
    "def stop_singularity_instance(instance_name=\"ollama\", log_file=None, port_file=None):\n",
    "    \"\"\"\n",
    "    Gracefully stop a running Singularity instance by name, \n",
    "    and optionally remove associated log or port files.\n",
    "    \"\"\"\n",
    "    print(f\"Checking for Singularity instance: {instance_name}\")\n",
    "\n",
    "    # 1. Check if instance is running\n",
    "    try:\n",
    "\n",
    "        result = subprocess.run(\n",
    "            'bash -lc \"module load singularity 2>/dev/null || true; singularity instance list\"',\n",
    "            shell=True,\n",
    "            capture_output=True,\n",
    "            text=True\n",
    "        )\n",
    "\n",
    "        if instance_name not in result.stdout:\n",
    "            print(f\"No running instance named '{instance_name}' found.\")\n",
    "        else:\n",
    "            print(f\"Instance '{instance_name}' is running. Attempting to stop it...\")\n",
    "            stop_result = subprocess.run(\n",
    "                f'bash -lc \"module load singularity 2>/dev/null || true; singularity instance stop {instance_name}\"',\n",
    "                shell=True,\n",
    "                capture_output=True,\n",
    "                text=True\n",
    "            )\n",
    "            if stop_result.returncode == 0:\n",
    "                print(f\"Singularity instance '{instance_name}' stopped successfully.\")\n",
    "            else:\n",
    "                print(f\"Warning: Failed to stop instance '{instance_name}'.\")\n",
    "                print(stop_result.stderr)\n",
    "\n",
    "    except FileNotFoundError:\n",
    "        print(\"Singularity command not found. Ensure it's installed and in PATH.\")\n",
    "        return\n",
    "\n",
    "    # 2. Optional cleanup for files\n",
    "    if port_file and os.path.exists(port_file):\n",
    "        os.remove(port_file)\n",
    "        print(f\"Removed port file: {port_file}\")\n",
    "\n",
    "    if log_file and os.path.exists(log_file):\n",
    "        os.remove(log_file)\n",
    "        print(f\"Removed log file: {log_file}\")\n",
    "\n",
    "    print(\"Cleanup complete.\")\n"
   ]
  },
  {
   "cell_type": "code",
   "execution_count": 14,
   "id": "379b154e-86ce-44dc-b0a8-45adb4b117cf",
   "metadata": {},
   "outputs": [
    {
     "name": "stdout",
     "output_type": "stream",
     "text": [
      "Checking for Singularity instance: ollama\n",
      "Instance 'ollama' is running. Attempting to stop it...\n",
      "Singularity instance 'ollama' stopped successfully.\n",
      "Cleanup complete.\n"
     ]
    }
   ],
   "source": [
    "stop_singularity_instance(\n",
    "    instance_name=\"ollama\",\n",
    "    log_file=os.path.expandvars(\"$PWD/ollama_server.log\"),\n",
    "    port_file=os.path.expandvars(\"$PWD/ollama_port.txt\")\n",
    ")"
   ]
  },
  {
   "cell_type": "code",
   "execution_count": null,
   "id": "9158bab4-877c-482d-862c-4edcbe7d746b",
   "metadata": {},
   "outputs": [],
   "source": []
  }
 ],
 "metadata": {
  "kernelspec": {
   "display_name": "Python 3 (ipykernel)",
   "language": "python",
   "name": "python3"
  },
  "language_info": {
   "codemirror_mode": {
    "name": "ipython",
    "version": 3
   },
   "file_extension": ".py",
   "mimetype": "text/x-python",
   "name": "python",
   "nbconvert_exporter": "python",
   "pygments_lexer": "ipython3",
   "version": "3.14.0"
  }
 },
 "nbformat": 4,
 "nbformat_minor": 5
}
