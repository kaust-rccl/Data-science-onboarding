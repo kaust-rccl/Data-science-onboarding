{
 "cells": [
  {
   "cell_type": "code",
   "execution_count": null,
   "id": "2b62b1e0-05aa-44d1-b530-c6b12b57b83b",
   "metadata": {},
   "outputs": [],
   "source": [
    "import torch"
   ]
  },
  {
   "cell_type": "code",
   "execution_count": null,
   "id": "519c4758-de5a-474a-9531-92fdb11d8e8a",
   "metadata": {},
   "outputs": [],
   "source": [
    "x = torch.rand(5, 3)"
   ]
  },
  {
   "cell_type": "code",
   "execution_count": null,
   "id": "7be808ad-4666-432e-89a4-353f9ad824f8",
   "metadata": {},
   "outputs": [],
   "source": [
    "print (x)"
   ]
  },
  {
   "cell_type": "code",
   "execution_count": null,
   "id": "79c1459c-e515-4cb1-93f3-39588f9dfff8",
   "metadata": {},
   "outputs": [],
   "source": [
    "import torchvision\n",
    "\n",
    "\n",
    "print('Is there a GPU?                   .............. ',torch.cuda.is_available())\n",
    "print('How many GPUs do we have          .............. ',torch.cuda.device_count())\n",
    "print('GPU properties                    .............. ',torch.cuda.get_device_properties(torch.cuda.current_device()))\n",
    "print('Supported GPU micro-architectures .............. ',torch.cuda.get_arch_list())\n",
    "print('Which GPU micro-architecture is this?........... ',torch.cuda.get_device_capability())\n",
    "\n",
    "print('Number of threads available on host ............ ',torch.get_num_threads())"
   ]
  },
  {
   "cell_type": "code",
   "execution_count": null,
   "id": "cbbe0702-bc7e-43ba-a8c0-597faad68d2d",
   "metadata": {},
   "outputs": [],
   "source": []
  }
 ],
 "metadata": {
  "kernelspec": {
   "display_name": "Python 3 (ipykernel)",
   "language": "python",
   "name": "python3"
  },
  "language_info": {
   "codemirror_mode": {
    "name": "ipython",
    "version": 3
   },
   "file_extension": ".py",
   "mimetype": "text/x-python",
   "name": "python",
   "nbconvert_exporter": "python",
   "pygments_lexer": "ipython3",
   "version": "3.9.15"
  },
  "vscode": {
   "interpreter": {
    "hash": "e7370f93d1d0cde622a1f8e1c04877d8463912d04d973331ad4851f04de6915a"
   }
  }
 },
 "nbformat": 4,
 "nbformat_minor": 5
}
