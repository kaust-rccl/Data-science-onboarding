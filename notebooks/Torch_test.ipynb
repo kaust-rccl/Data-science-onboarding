{
 "cells": [
  {
   "cell_type": "code",
   "execution_count": 1,
   "id": "2b62b1e0-05aa-44d1-b530-c6b12b57b83b",
   "metadata": {},
   "outputs": [],
   "source": [
    "import torch"
   ]
  },
  {
   "cell_type": "code",
   "execution_count": 2,
   "id": "519c4758-de5a-474a-9531-92fdb11d8e8a",
   "metadata": {},
   "outputs": [],
   "source": [
    "x = torch.rand(5, 3)"
   ]
  },
  {
   "cell_type": "code",
   "execution_count": 3,
   "id": "7be808ad-4666-432e-89a4-353f9ad824f8",
   "metadata": {},
   "outputs": [
    {
     "name": "stdout",
     "output_type": "stream",
     "text": [
      "tensor([[0.7014, 0.2893, 0.2407],\n",
      "        [0.3971, 0.4779, 0.3941],\n",
      "        [0.9256, 0.3940, 0.2561],\n",
      "        [0.3825, 0.3802, 0.5867],\n",
      "        [0.0902, 0.2037, 0.5922]])\n"
     ]
    }
   ],
   "source": [
    "print (x)"
   ]
  },
  {
   "cell_type": "code",
   "execution_count": 4,
   "id": "79c1459c-e515-4cb1-93f3-39588f9dfff8",
   "metadata": {},
   "outputs": [
    {
     "name": "stdout",
     "output_type": "stream",
     "text": [
      "Is there a GPU?                   ..............  True\n",
      "How many GPUs do we have          ..............  1\n",
      "GPU properties                    ..............  _CudaDeviceProperties(name='Tesla V100-SXM2-32GB', major=7, minor=0, total_memory=32510MB, multi_processor_count=80)\n",
      "Supported GPU micro-architectures ..............  ['sm_35', 'sm_50', 'sm_60', 'sm_61', 'sm_70', 'sm_75', 'sm_80', 'sm_86', 'compute_86']\n",
      "Which GPU micro-architecture is this?...........  (7, 0)\n",
      "Number of threads available on host ............  6\n"
     ]
    }
   ],
   "source": [
    "import torchvision\n",
    "\n",
    "\n",
    "print('Is there a GPU?                   .............. ',torch.cuda.is_available())\n",
    "print('How many GPUs do we have          .............. ',torch.cuda.device_count())\n",
    "print('GPU properties                    .............. ',torch.cuda.get_device_properties(torch.cuda.current_device()))\n",
    "print('Supported GPU micro-architectures .............. ',torch.cuda.get_arch_list())\n",
    "print('Which GPU micro-architecture is this?........... ',torch.cuda.get_device_capability())\n",
    "\n",
    "print('Number of threads available on host ............ ',torch.get_num_threads())"
   ]
  },
  {
   "cell_type": "code",
   "execution_count": null,
   "id": "cbbe0702-bc7e-43ba-a8c0-597faad68d2d",
   "metadata": {},
   "outputs": [],
   "source": []
  }
 ],
 "metadata": {
  "kernelspec": {
   "display_name": "Python 3",
   "language": "python",
   "name": "python3"
  },
  "language_info": {
   "codemirror_mode": {
    "name": "ipython",
    "version": 3
   },
   "file_extension": ".py",
   "mimetype": "text/x-python",
   "name": "python",
   "nbconvert_exporter": "python",
   "pygments_lexer": "ipython3",
   "version": "3.9.13"
  },
  "vscode": {
   "interpreter": {
    "hash": "8c352985625c5cc17a76ee0d595b7bdf0548c19482e1fae9db2ecfc8baa0be2b"
   }
  }
 },
 "nbformat": 4,
 "nbformat_minor": 5
}
