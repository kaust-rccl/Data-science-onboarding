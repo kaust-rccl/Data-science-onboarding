{
 "cells": [
  {
   "cell_type": "code",
   "execution_count": null,
   "id": "15974b7e-177d-41ab-bb55-41c90d7f28f2",
   "metadata": {
    "tags": []
   },
   "outputs": [],
   "source": [
    "import dask.dataframe as dd \n",
    "import cudf\n",
    "import pandas as pd\n",
    "import glob"
   ]
  },
  {
   "cell_type": "code",
   "execution_count": null,
   "id": "09f0d8c0-596e-4916-b237-f2c3dd02115c",
   "metadata": {
    "tags": []
   },
   "outputs": [],
   "source": [
    "import dask_cudf"
   ]
  },
  {
   "cell_type": "code",
   "execution_count": null,
   "id": "2a528514-ed26-4649-8bf5-08a89407f6b0",
   "metadata": {
    "tags": []
   },
   "outputs": [],
   "source": [
    "#Download Data:\n",
    "import os\n",
    "if not os.path.exists('../data'):\n",
    "    os.makedirs('../data')\n",
    "    #download data using curl command\n",
    "# if you find the file PPI_hAIkal_labeled_train_data.csv on data folder then you can skip this step\n",
    "if os.path.exists('../data/4M_rows.csv'):\n",
    "    print('data already downloaded')\n",
    "\n",
    "\n",
    "else:\n",
    "    !cp /ibex/tmp/kvl/ai_workshop_data/4M_rows.csv ../data/4M_rows.csv\n",
    "    # !curl -L -o ../data/4M_rows.csv  https://repository.kaust.edu.sa/bitstreams/f0584b17-227c-40fb-a5ff-ba41445e0ed5/content\n"
   ]
  },
  {
   "cell_type": "code",
   "execution_count": null,
   "id": "91781b08-9cb7-4f85-ad28-9a4fc0ff0c1c",
   "metadata": {
    "tags": []
   },
   "outputs": [],
   "source": [
    "file = '../data/4M_rows.csv'"
   ]
  },
  {
   "cell_type": "code",
   "execution_count": null,
   "id": "59cedcf9-1431-4af2-937c-6bbf22f22362",
   "metadata": {
    "tags": []
   },
   "outputs": [],
   "source": [
    "%time\n",
    "df = pd.read_csv(file)"
   ]
  },
  {
   "cell_type": "code",
   "execution_count": null,
   "id": "de750ff5-befc-4ff8-b0b0-2923a2c3c5c3",
   "metadata": {
    "tags": []
   },
   "outputs": [],
   "source": [
    "%time\n",
    "gdf = cudf.read_csv(file)"
   ]
  },
  {
   "cell_type": "code",
   "execution_count": null,
   "id": "7affc041-2ecc-4b24-88cc-b0faa6c09eea",
   "metadata": {
    "tags": []
   },
   "outputs": [],
   "source": [
    "%time\n",
    "ddf = dd.read_csv(file)"
   ]
  },
  {
   "cell_type": "code",
   "execution_count": null,
   "id": "6f79357f-f98e-4063-8647-ebf946445ede",
   "metadata": {
    "tags": []
   },
   "outputs": [],
   "source": [
    "%time \n",
    "# pass the cudf dataframe to dask_cudf\n",
    "dgdf = dask_cudf.from_cudf(gdf, npartitions=4)"
   ]
  },
  {
   "cell_type": "code",
   "execution_count": null,
   "id": "03ec0642-f88d-47f7-a681-9cb647b01074",
   "metadata": {
    "tags": []
   },
   "outputs": [],
   "source": [
    "%time\n",
    "# pass the dask dataframe to dask_cudf\n",
    "ddgdf = dask_cudf.from_dask_dataframe(ddf)"
   ]
  },
  {
   "cell_type": "code",
   "execution_count": null,
   "id": "e942204a-4e43-4758-8272-a717c71e5258",
   "metadata": {
    "tags": []
   },
   "outputs": [],
   "source": [
    "!nvidia-smi"
   ]
  },
  {
   "cell_type": "code",
   "execution_count": null,
   "id": "86d27a9d-d543-4bb7-ab89-7e767630b835",
   "metadata": {
    "tags": []
   },
   "outputs": [],
   "source": [
    "df.columns.to_list()"
   ]
  },
  {
   "cell_type": "code",
   "execution_count": null,
   "id": "67b8dcba-0a90-401d-937e-d243bdafb397",
   "metadata": {
    "tags": []
   },
   "outputs": [],
   "source": [
    "%time\n",
    "ddgdf.groupby('ArAr').count().compute()"
   ]
  },
  {
   "cell_type": "code",
   "execution_count": null,
   "id": "0c93df11-7943-4e8c-9a48-8684d14e21b7",
   "metadata": {
    "tags": []
   },
   "outputs": [],
   "source": [
    "%time \n",
    "ddgdf[['ArAr','Conf']].groupby('ArAr').count().sort_values(by='Conf').compute()"
   ]
  },
  {
   "cell_type": "code",
   "execution_count": null,
   "id": "6257beb9-a93c-4628-a7c9-bc5e2833a464",
   "metadata": {},
   "outputs": [],
   "source": []
  },
  {
   "cell_type": "code",
   "execution_count": null,
   "id": "c233fbe4-4ab2-4b08-a1f8-4340dc438450",
   "metadata": {},
   "outputs": [],
   "source": []
  }
 ],
 "metadata": {
  "kernelspec": {
   "display_name": "Python 3 (ipykernel)",
   "language": "python",
   "name": "python3"
  },
  "language_info": {
   "codemirror_mode": {
    "name": "ipython",
    "version": 3
   },
   "file_extension": ".py",
   "mimetype": "text/x-python",
   "name": "python",
   "nbconvert_exporter": "python",
   "pygments_lexer": "ipython3",
   "version": "3.10.13"
  },
  "vscode": {
   "interpreter": {
    "hash": "e7370f93d1d0cde622a1f8e1c04877d8463912d04d973331ad4851f04de6915a"
   }
  }
 },
 "nbformat": 4,
 "nbformat_minor": 5
}
